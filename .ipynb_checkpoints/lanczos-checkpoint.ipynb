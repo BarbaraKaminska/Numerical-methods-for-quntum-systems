{
 "cells": [
  {
   "cell_type": "code",
   "execution_count": 1,
   "metadata": {},
   "outputs": [],
   "source": [
    "import numpy as np\n",
    "import scipy.linalg as la\n",
    "from numpy import linalg as LA\n",
    "import math\n",
    "import cmath\n",
    "\n",
    "def decToBin (dec, L):\n",
    "    return bin(dec).replace('0b','').zfill(L)\n",
    "\n",
    "def binToDec (bin):\n",
    "    return int(bin, 2)\n",
    "\n",
    "def hamiltonian (L, J, delta):\n",
    "    #print(\"M: \", M)\n",
    "    H = np.zeros((2**L, 2**L))\n",
    "    for i in range(2**L):\n",
    "        basis = [decToBin(k,L) for k in range(2**L)]\n",
    "        for j in range(L-1):\n",
    "            s1 = int(basis[i][j])-0.5\n",
    "            s2 = int(basis[i][j+1])-0.5\n",
    "            H[i,i] = H[i,i] + delta*s1*s2 #diagonal part, H_p\n",
    "            if (s1 == -0.5 and s2 == 0.5): #s_plus_s_minus\n",
    "                m = binToDec(basis[i][:j] + '10' + basis[i][(j+2):])\n",
    "                H[m, i] += 0.5*J\n",
    "                \n",
    "            if (s1 == 0.5 and s2 == -0.5): #s_minus_s_plus\n",
    "                k = binToDec(basis[i][:j] + '01' + basis[i][j+2:])\n",
    "                H[k, i] += 0.5*J\n",
    "    return H\n",
    "\n",
    "def printEigen (res, new, L):\n",
    "    basis = [decToBin(k,L) for k in range(2**L)]\n",
    "    for i in range(len(res[0])):\n",
    "        eigen = str(round(res[0][i], 6)) + ' -> '\n",
    "        for j in range(len(res[1][i])):\n",
    "            eigen += str(round(res[1][i][j], 6)) + ' * ' + str(basis[new[j]]) + ' + '\n",
    "        print (eigen)\n",
    "        \n",
    "def groundStateEnergy (hamiltonian):\n",
    "    eig = la.eigh(H)\n",
    "    eigVal = eig [0]\n",
    "    return np.min(eigVal)"
   ]
  },
  {
   "cell_type": "code",
   "execution_count": 2,
   "metadata": {},
   "outputs": [
    {
     "name": "stdout",
     "output_type": "stream",
     "text": [
      "-3.374932598687889\n"
     ]
    }
   ],
   "source": [
    "L = 8\n",
    "J = 1\n",
    "delta = 1\n",
    "H = hamiltonian (L, J, delta)\n",
    "ED0 = min (la.eigh(H)[0])\n",
    "print(ED0)\n",
    "ener = la.eigh(H)[0]\n",
    "#for e in ener:\n",
    "    #    print(45, e)"
   ]
  },
  {
   "cell_type": "code",
   "execution_count": 3,
   "metadata": {},
   "outputs": [
    {
     "name": "stdout",
     "output_type": "stream",
     "text": [
      "1.0000000000000002\n"
     ]
    }
   ],
   "source": [
    "# Lanczos\n",
    "import random\n",
    "\n",
    "lanSteps = 41\n",
    "\n",
    "phiRand = np.random.rand(2**L) - np.full(2**L,0.5)\n",
    "phiRandNorm = np.dot(phiRand, phiRand)\n",
    "phi0 = phiRand/math.sqrt(phiRandNorm)\n",
    "print (np.dot(phi0, phi0))\n",
    "\n",
    "lanH = np.zeros((lanSteps, lanSteps))\n",
    "lanEner = np.zeros(lanSteps)"
   ]
  },
  {
   "cell_type": "code",
   "execution_count": 4,
   "metadata": {},
   "outputs": [
    {
     "name": "stdout",
     "output_type": "stream",
     "text": [
      "-0.20661419327610783\n"
     ]
    }
   ],
   "source": [
    "a = np.dot(phi0, np.dot(H, phi0))\n",
    "lanH[0][0] = a\n",
    "print (min (la.eigh([[a]])[0]))\n",
    "tmp = np.dot(H, phi0)\n",
    "tmp2 = tmp - a*phi0\n",
    "b = math.sqrt(np.dot(tmp2, tmp2))\n",
    "lanH [1][0] = b\n",
    "lanH [0][1] = b\n",
    "phi1 = tmp2/b\n",
    "tempH = lanH [:2, :2]\n",
    "\n",
    "curr = phi1\n",
    "prev = phi0\n"
   ]
  },
  {
   "cell_type": "code",
   "execution_count": 5,
   "metadata": {},
   "outputs": [
    {
     "name": "stdout",
     "output_type": "stream",
     "text": [
      "2 -1.6790848342813884\n",
      "2 0.8428669807358395\n"
     ]
    },
    {
     "ename": "NameError",
     "evalue": "name 'e0' is not defined",
     "output_type": "error",
     "traceback": [
      "\u001b[1;31m---------------------------------------------------------------------------\u001b[0m",
      "\u001b[1;31mNameError\u001b[0m                                 Traceback (most recent call last)",
      "\u001b[1;32m<ipython-input-5-51e1f16abcb0>\u001b[0m in \u001b[0;36m<module>\u001b[1;34m\u001b[0m\n\u001b[0;32m     12\u001b[0m     \u001b[1;32mfor\u001b[0m \u001b[0me\u001b[0m \u001b[1;32min\u001b[0m \u001b[0mener\u001b[0m\u001b[1;33m:\u001b[0m\u001b[1;33m\u001b[0m\u001b[1;33m\u001b[0m\u001b[0m\n\u001b[0;32m     13\u001b[0m         \u001b[0mprint\u001b[0m\u001b[1;33m(\u001b[0m\u001b[0mstep\u001b[0m\u001b[1;33m+\u001b[0m\u001b[1;36m1\u001b[0m\u001b[1;33m,\u001b[0m \u001b[0me\u001b[0m\u001b[1;33m)\u001b[0m\u001b[1;33m\u001b[0m\u001b[1;33m\u001b[0m\u001b[0m\n\u001b[1;32m---> 14\u001b[1;33m     \u001b[0mlanEner\u001b[0m \u001b[1;33m[\u001b[0m\u001b[0mstep\u001b[0m\u001b[1;33m]\u001b[0m \u001b[1;33m=\u001b[0m \u001b[0me0\u001b[0m\u001b[1;33m\u001b[0m\u001b[1;33m\u001b[0m\u001b[0m\n\u001b[0m\u001b[0;32m     15\u001b[0m    \u001b[1;31m# print ((e0 - ED0)/ED0)\u001b[0m\u001b[1;33m\u001b[0m\u001b[1;33m\u001b[0m\u001b[1;33m\u001b[0m\u001b[0m\n\u001b[0;32m     16\u001b[0m     \u001b[0mprev\u001b[0m \u001b[1;33m=\u001b[0m \u001b[0mcurr\u001b[0m\u001b[1;33m\u001b[0m\u001b[1;33m\u001b[0m\u001b[0m\n",
      "\u001b[1;31mNameError\u001b[0m: name 'e0' is not defined"
     ]
    }
   ],
   "source": [
    "for step in range(1, lanSteps - 1):\n",
    "    tmp = np.dot(H, curr)\n",
    "    a = np.dot(curr, np.dot(H, curr))\n",
    "    lanH [step][step] = a\n",
    "    tmp2 = tmp - a*curr - b*prev\n",
    "    b = math.sqrt(np.dot(tmp2, tmp2))\n",
    "    lanH [step][step + 1] = b\n",
    "    lanH [step + 1][step] = b\n",
    "    tempH = lanH [:(step+1), :(step+1)]\n",
    "    #print (tempH)\n",
    "    ener = la.eigh(tempH)[0]\n",
    "    for e in ener:\n",
    "        print(step+1, e)\n",
    "    lanEner [step] = e0\n",
    "   # print ((e0 - ED0)/ED0)    \n",
    "    prev = curr\n",
    "    curr = tmp2/b"
   ]
  },
  {
   "cell_type": "code",
   "execution_count": 124,
   "metadata": {},
   "outputs": [
    {
     "name": "stdout",
     "output_type": "stream",
     "text": [
      "1 0.5357463842137016\n",
      "2 0.3463379903632159\n",
      "3 0.28910545816272293\n",
      "4 0.27334205463291006\n",
      "5 0.2716982021470823\n",
      "6 0.2714740266839654\n",
      "7 0.27145172363628206\n",
      "8 0.2714484801955899\n",
      "9 0.2714480454951311\n",
      "10 0.27144797473792015\n",
      "11 0.27144796743127664\n",
      "12 0.27144796634266805\n",
      "13 0.27144796629273643\n",
      "14 0.2714479662900883\n",
      "15 0.2714479662900526\n",
      "16 0.0006833959610681672\n",
      "17 9.897443115040969e-08\n",
      "18 2.0444568700255371e-10\n",
      "19 1.3446038980716224e-12\n",
      "20 3.561864630653305e-16\n",
      "21 1.0685593891959915e-15\n",
      "22 1.424745852261322e-15\n",
      "23 1.0685593891959915e-15\n",
      "24 1.0685593891959915e-15\n",
      "25 1.424745852261322e-15\n",
      "26 1.0685593891959915e-15\n",
      "27 1.0685593891959915e-15\n",
      "28 1.0685593891959915e-15\n",
      "29 1.0685593891959915e-15\n",
      "30 7.12372926130661e-16\n",
      "31 1.0685593891959915e-15\n",
      "32 7.12372926130661e-16\n",
      "33 7.12372926130661e-16\n",
      "34 3.561864630653305e-16\n",
      "35 1.0685593891959915e-15\n",
      "36 1.0685593891959915e-15\n",
      "37 1.0685593891959915e-15\n",
      "38 8.904661576633261e-16\n",
      "39 1.0685593891959915e-15\n",
      "40 1.0685593891959915e-15\n"
     ]
    }
   ],
   "source": [
    "for step in range(1, lanSteps - 1):\n",
    "    tmp = np.dot(H, curr)\n",
    "    a = np.dot(curr, np.dot(H, curr))\n",
    "    lanH [step][step] = a\n",
    "    tmp2 = tmp - a*curr - b*prev\n",
    "    b = math.sqrt(np.dot(tmp2, tmp2))\n",
    "    lanH [step][step + 1] = b\n",
    "    lanH [step + 1][step] = b\n",
    "    tempH = lanH [:(step +1), :(step +1)]\n",
    "   # print(step, tempH)\n",
    "    e0 = min (la.eigh(tempH)[0])\n",
    "    lanEner [step] = e0\n",
    "    print (step,  np.abs((e0 - ED0)/ED0))    \n",
    "    prev = curr\n",
    "    curr = tmp2/b\n",
    "    "
   ]
  },
  {
   "cell_type": "code",
   "execution_count": null,
   "metadata": {},
   "outputs": [],
   "source": []
  }
 ],
 "metadata": {
  "kernelspec": {
   "display_name": "Python 3",
   "language": "python",
   "name": "python3"
  },
  "language_info": {
   "codemirror_mode": {
    "name": "ipython",
    "version": 3
   },
   "file_extension": ".py",
   "mimetype": "text/x-python",
   "name": "python",
   "nbconvert_exporter": "python",
   "pygments_lexer": "ipython3",
   "version": "3.8.5"
  }
 },
 "nbformat": 4,
 "nbformat_minor": 4
}
