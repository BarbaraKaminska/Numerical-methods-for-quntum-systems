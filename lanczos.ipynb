{
 "cells": [
  {
   "cell_type": "code",
   "execution_count": 6,
   "metadata": {},
   "outputs": [],
   "source": [
    "import numpy as np\n",
    "import scipy.linalg as la\n",
    "#from numpy import linalg as LA\n",
    "import math\n",
    "import cmath\n",
    "\n",
    "def decToBin (dec, L):\n",
    "    return bin(dec).replace('0b','').zfill(L)\n",
    "\n",
    "def binToDec (bin):\n",
    "    return int(bin, 2)\n",
    "\n",
    "def hamiltonian (L, J, delta):\n",
    "    #print(\"M: \", M)\n",
    "    H = np.zeros((2**L, 2**L))\n",
    "    for i in range(2**L):\n",
    "        basis = [decToBin(k,L) for k in range(2**L)]\n",
    "        for j in range(L-1):\n",
    "            s1 = int(basis[i][j])-0.5\n",
    "            s2 = int(basis[i][j+1])-0.5\n",
    "            H[i,i] = H[i,i] + delta*s1*s2 #diagonal part, H_p\n",
    "            if (s1 == -0.5 and s2 == 0.5): #s_plus_s_minus\n",
    "                m = binToDec(basis[i][:j] + '10' + basis[i][(j+2):])\n",
    "                H[m, i] += 0.5*J\n",
    "                \n",
    "            if (s1 == 0.5 and s2 == -0.5): #s_minus_s_plus\n",
    "                k = binToDec(basis[i][:j] + '01' + basis[i][j+2:])\n",
    "                H[k, i] += 0.5*J\n",
    "    return H\n",
    "\n",
    "def printEigen (res, new, L):\n",
    "    basis = [decToBin(k,L) for k in range(2**L)]\n",
    "    for i in range(len(res[0])):\n",
    "        eigen = str(round(res[0][i], 6)) + ' -> '\n",
    "        for j in range(len(res[1][i])):\n",
    "            eigen += str(round(res[1][i][j], 6)) + ' * ' + str(basis[new[j]]) + ' + '\n",
    "        print (eigen)\n",
    "        \n",
    "def groundStateEnergy (hamiltonian):\n",
    "    eig = la.eigh(H)\n",
    "    eigVal = eig [0]\n",
    "    return np.min(eigVal)"
   ]
  },
  {
   "cell_type": "code",
   "execution_count": 7,
   "metadata": {},
   "outputs": [
    {
     "name": "stdout",
     "output_type": "stream",
     "text": [
      "-3.374932598687889\n"
     ]
    }
   ],
   "source": [
    "L = 8\n",
    "J = 1\n",
    "delta = 1\n",
    "H = hamiltonian (L, J, delta)\n",
    "ED0 = min (la.eigh(H)[0])\n",
    "print(ED0)\n",
    "ener = la.eigh(H)[0]\n",
    "#for e in ener:\n",
    "    #    print(45, e)"
   ]
  },
  {
   "cell_type": "code",
   "execution_count": 8,
   "metadata": {},
   "outputs": [
    {
     "name": "stdout",
     "output_type": "stream",
     "text": [
      "0.9999999999999998\n"
     ]
    }
   ],
   "source": [
    "# Lanczos\n",
    "import random\n",
    "\n",
    "lanSteps = 41\n",
    "\n",
    "phiRand = np.random.rand(2**L) - np.full(2**L,0.5)\n",
    "phiRandNorm = np.dot(phiRand, phiRand)\n",
    "phi0 = phiRand/math.sqrt(phiRandNorm)\n",
    "print (np.dot(phi0, phi0))\n",
    "\n",
    "lanH = np.zeros((lanSteps, lanSteps))\n",
    "lanEner = np.zeros(lanSteps)"
   ]
  },
  {
   "cell_type": "code",
   "execution_count": 14,
   "metadata": {},
   "outputs": [],
   "source": [
    "a = np.dot(phi0, np.dot(H, phi0))\n",
    "lanH[0][0] = a\n",
    "#print (min (la.eigh([[a]])[0]))\n",
    "tmp = np.dot(H, phi0)\n",
    "tmp2 = tmp - a*phi0\n",
    "b = math.sqrt(np.dot(tmp2, tmp2))\n",
    "lanH [1][0] = b\n",
    "lanH [0][1] = b\n",
    "phi1 = tmp2/b\n",
    "tempH = lanH [:2, :2]\n",
    "\n",
    "curr = phi1\n",
    "prev = phi0\n"
   ]
  },
  {
   "cell_type": "code",
   "execution_count": 18,
   "metadata": {},
   "outputs": [
    {
     "name": "stdout",
     "output_type": "stream",
     "text": [
      "1 \t 0.45971130678509176\n",
      "2 \t 0.15305224782416876\n",
      "3 \t 0.09528833626433551\n",
      "4 \t 0.08424018884291148\n",
      "5 \t 0.08413912697553634\n",
      "6 \t 0.08413709559845489\n",
      "7 \t 0.08413701441187768\n",
      "8 \t 0.08413701175038198\n",
      "9 \t 0.08413701146769559\n",
      "10 \t 0.08413701126125696\n",
      "11 \t 0.08413701125449535\n",
      "12 \t 0.08413701125423508\n",
      "13 \t 0.08413701125417113\n",
      "14 \t 0.08413701125416323\n",
      "15 \t 0.08413701125416086\n",
      "16 \t 0.08413701125414876\n",
      "17 \t 0.08413701125414508\n",
      "18 \t 0.08413701125414402\n",
      "19 \t 0.08413701125414481\n",
      "20 \t 0.08413701125414613\n",
      "21 \t 0.08413701125414534\n",
      "22 \t 0.08413701125414626\n",
      "23 \t 0.08413701125414613\n",
      "24 \t 0.08413701125414613\n",
      "25 \t 0.08413701125414691\n",
      "26 \t 0.08413701125414638\n",
      "27 \t 0.08413701125414534\n",
      "28 \t 0.08413701125414508\n",
      "29 \t 0.005554616881545502\n",
      "30 \t 0.0006894182837533696\n",
      "31 \t 9.353666204746289e-05\n",
      "32 \t 1.681213445848789e-06\n",
      "33 \t 2.592563633329471e-08\n",
      "34 \t 6.77725248596046e-10\n",
      "35 \t 2.6331923835897002e-11\n",
      "36 \t 2.436683918132368e-12\n",
      "37 \t 2.686957857666214e-13\n",
      "38 \t 3.158030782761466e-15\n",
      "39 \t 1.579015391380733e-15\n"
     ]
    }
   ],
   "source": [
    "for step in range(1, lanSteps - 1):\n",
    "    tmp = np.dot(H, curr)\n",
    "    a = np.dot(curr, np.dot(H, curr))\n",
    "    lanH [step][step] = a\n",
    "    tmp2 = tmp - a*curr - b*prev\n",
    "    b = math.sqrt(np.dot(tmp2, tmp2))\n",
    "    lanH [step][step + 1] = b\n",
    "    lanH [step + 1][step] = b\n",
    "    tempH = lanH [:(step +1), :(step +1)]\n",
    "   # print(step, tempH)\n",
    "    e0 = min (la.eigh(tempH)[0])\n",
    "    lanEner [step] = e0\n",
    "    print (step,'\\t', np.abs((e0 - ED0)/ED0))    \n",
    "    prev = curr\n",
    "    curr = tmp2/b\n",
    "    "
   ]
  },
  {
   "cell_type": "code",
   "execution_count": null,
   "metadata": {},
   "outputs": [],
   "source": []
  }
 ],
 "metadata": {
  "kernelspec": {
   "display_name": "Python 3",
   "language": "python",
   "name": "python3"
  },
  "language_info": {
   "codemirror_mode": {
    "name": "ipython",
    "version": 3
   },
   "file_extension": ".py",
   "mimetype": "text/x-python",
   "name": "python",
   "nbconvert_exporter": "python",
   "pygments_lexer": "ipython3",
   "version": "3.8.5"
  }
 },
 "nbformat": 4,
 "nbformat_minor": 4
}
