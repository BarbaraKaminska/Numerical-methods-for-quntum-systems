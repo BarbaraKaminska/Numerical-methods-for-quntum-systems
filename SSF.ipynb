{
 "cells": [
  {
   "cell_type": "code",
   "execution_count": 11,
   "metadata": {},
   "outputs": [],
   "source": [
    "import numpy as np\n",
    "import scipy.linalg as la\n",
    "import math\n",
    "import cmath"
   ]
  },
  {
   "cell_type": "code",
   "execution_count": 12,
   "metadata": {},
   "outputs": [],
   "source": [
    "def hamiltonian (L, J, delta):\n",
    "    H = np.zeros((2**L,2**L))\n",
    "    for i in range(2**L):\n",
    "        basis = [decToBin(k,L) for k in range(2**L)]\n",
    "        for j in range(L-1):\n",
    "            s1 = int(basis[i][j])-0.5\n",
    "            s2 = int(basis[i][(j+1)])-0.5\n",
    "            H[i,i] = H[i,i] + delta*s1*s2 #diagonal part, H_p\n",
    "            if (s1 == -0.5 and s2 == 0.5): #s_plus_s_minus\n",
    "                m = binToDec(basis[i][:j] + '10' + basis[i][(j+2):])\n",
    "                H[m, i] += 0.5*J\n",
    "                \n",
    "            if (s1 == 0.5 and s2 == -0.5): #s_minus_s_plus\n",
    "                k = binToDec(basis[i][:j] + '01' + basis[i][j+2:])\n",
    "                H[k, i] += 0.5*J\n",
    "         \n",
    "        s1 = int(basis[i][L-1])-0.5\n",
    "        s2 = int(basis[i][0])-0.5\n",
    "        H[i,i] = H[i,i] + delta*s1*s2 #diagonal part, H_p\n",
    "        if (s1 == -0.5 and s2 == 0.5): #s_plus_s_minus\n",
    "            m = binToDec('0' + basis[i][1:-1] + '1' )\n",
    "            H[m, i] += 0.5*J\n",
    "                \n",
    "        if (s1 == 0.5 and s2 == -0.5): #s_minus_s_plus\n",
    "            k = binToDec('1' + basis[i][1:-1] + '0')\n",
    "            H[k, i] += 0.5*J \n",
    "          \n",
    "    return H\n",
    "\n",
    "def decToBin (dec, L):\n",
    "    return bin(dec).replace('0b','').zfill(L)\n",
    "\n",
    "def binToDec (bin):\n",
    "    return int(bin, 2)\n",
    "\n",
    "def SiZ (i, L):\n",
    "    S = np.zeros((2**L,2**L))\n",
    "    basis = [decToBin(k,L) for k in range(2**L)]\n",
    "   \n",
    "    for j in range(2**L):        \n",
    "       # for l in range(L):\n",
    "            \n",
    "        s1 = int(basis[j][i])-0.5\n",
    "        #    print (j, l, s1)\n",
    "        S[j,j] = S[j,j] + s1\n",
    "            \n",
    "    return S"
   ]
  },
  {
   "cell_type": "code",
   "execution_count": 14,
   "metadata": {},
   "outputs": [],
   "source": [
    "L = 8\n",
    "J = 1\n",
    "delta = 1\n",
    "T = float(\"inf\")\n",
    "binSize = 0.1"
   ]
  },
  {
   "cell_type": "code",
   "execution_count": 15,
   "metadata": {},
   "outputs": [],
   "source": [
    "H = hamiltonian (L, J, delta)\n",
    "eig = la.eigh(H)\n",
    "eigEner = eig[0]\n",
    "eigVect = [eig[1][:, i] for i in range (len(eigEner))]\n",
    "Z = sum([math.exp(-e/T) for e in eigEner])\n",
    "oMax = max(eigEner) - min(eigEner)\n",
    "#print(eigVect[0]-eigVect[1])\n",
    "binNum = int(oMax / binSize)"
   ]
  },
  {
   "cell_type": "code",
   "execution_count": 16,
   "metadata": {},
   "outputs": [],
   "source": [
    "S = np.zeros((binNum, L))\n",
    "for k in range(1,L):  # q=0 omitted for clarity of plot\n",
    "    SqZ = np.zeros((2**L, 2**L), dtype=complex) \n",
    "    q = 2*k*math.pi/L\n",
    "    for i in range(L):        \n",
    "        SqZ += cmath.exp(1j*q*i)*SiZ(i, L)\n",
    "        \n",
    "    for n in range (2**L):\n",
    "        for m in range(2**L):\n",
    "            o = -(int ((eigEner[m] - eigEner[n])/binSize ) - int(binNum/2))%binNum\n",
    "            \n",
    "            matrEl = np.dot(np.conj(eigVect[n]), np.dot(SqZ, eigVect[m]))\n",
    "            temp = math.exp(-eigEner[n]/T)/Z * abs(matrEl)**2 / binSize\n",
    "            S[o][k] += temp \n",
    "#np.set_printoptions(precision=3, suppress=True)\n",
    "#print(S)"
   ]
  },
  {
   "cell_type": "code",
   "execution_count": 17,
   "metadata": {},
   "outputs": [
    {
     "data": {
      "image/png": "[encoded data removed]",
      "text/plain": [
       "<Figure size 1080x720 with 2 Axes>"
      ]
     },
     "metadata": {
      "needs_background": "light"
     },
     "output_type": "display_data"
    }
   ],
   "source": [
    "import matplotlib.pyplot as plt\n",
    "from matplotlib import cm # This allows different color schemes\n",
    "\n",
    "plt.rcParams[\"figure.figsize\"]=15,10\n",
    "plt.rcParams['xtick.labelsize']=15\n",
    "plt.rcParams['ytick.labelsize']=15\n",
    "plt.rcParams['axes.labelsize']=20\n",
    "plt.rcParams['figure.titlesize']=30\n",
    "fig = plt.imshow(S,interpolation='none', cmap=cm.Blues, aspect='auto')\n",
    "\n",
    "#plt.xticks(range(0,10), labels=range(1,11))\n",
    "plt.yticks(range(0,62,10), labels=[3, 2, 1, 0, -1, -2, -3])\n",
    "plt.grid(None)\n",
    "#plt.xlim(0, 9)\n",
    "#plt.colorbar(ticks=[-0.5, -0.25, 0, 0.25, 0.5])\n",
    "plt.colorbar()\n",
    "plt.xlabel('q')\n",
    "plt.ylabel('omega')\n",
    "#plt.title(r'L = 10, $\\Delta$ = 1')\n",
    "\n",
    "plt.show()"
   ]
  },
  {
   "cell_type": "code",
   "execution_count": 18,
   "metadata": {},
   "outputs": [],
   "source": [
    "# T = 0\n",
    "S = np.zeros((binNum, L))\n",
    "for k in range(1, L):\n",
    "    SqZ = np.zeros((2**L, 2**L), dtype = complex) \n",
    "    q = 2*k*math.pi/L\n",
    "    for i in range(L):\n",
    "        SqZ += cmath.exp(1j*q*i)*SiZ(i, L)\n",
    "    for n in range (2**L):\n",
    "        o = -(int ((eigEner[n] - eigEner[0])/binSize - binSize/2)  - int(binNum/2))%binNum\n",
    "            \n",
    "        matrEl = np.dot(eigVect[0], np.dot(SqZ, eigVect[n]))\n",
    "        temp =  abs(matrEl)**2 /binSize\n",
    "           # if (temp > 0): \n",
    "             #   print (o, k, temp)\n",
    "        S[o][k] += temp\n",
    "np.set_printoptions(precision=3, suppress=True)\n",
    "#print(S)"
   ]
  },
  {
   "cell_type": "code",
   "execution_count": 19,
   "metadata": {},
   "outputs": [
    {
     "data": {
      "image/png": "[encoded data removed]",
      "text/plain": [
       "<Figure size 1080x720 with 2 Axes>"
      ]
     },
     "metadata": {
      "needs_background": "light"
     },
     "output_type": "display_data"
    }
   ],
   "source": [
    "import matplotlib.pyplot as plt\n",
    "from matplotlib import cm # This allows different color schemes\n",
    "\n",
    "plt.rcParams[\"figure.figsize\"]=15,10\n",
    "plt.rcParams['xtick.labelsize']=15\n",
    "plt.rcParams['ytick.labelsize']=15\n",
    "plt.rcParams['axes.labelsize']=20\n",
    "plt.rcParams['figure.titlesize']=30\n",
    "fig = plt.imshow(S,interpolation='none', cmap=cm.Blues, aspect='auto')\n",
    "\n",
    "#plt.xticks(range(0,10), labels=range(1,11))\n",
    "plt.yticks(range(0,62,10), labels=[3, 2, 1, 0, -1, -2, -3])\n",
    "plt.grid(None)\n",
    "#plt.colorbar(ticks=[-0.5, -0.25, 0, 0.25, 0.5])\n",
    "plt.colorbar()\n",
    "plt.xlabel('q')\n",
    "plt.ylabel('o')\n",
    "#plt.title(r'L = 10, $\\Delta$ = 1')\n",
    "\n",
    "plt.show()"
   ]
  },
  {
   "cell_type": "code",
   "execution_count": null,
   "metadata": {},
   "outputs": [],
   "source": []
  }
 ],
 "metadata": {
  "kernelspec": {
   "display_name": "Python 3",
   "language": "python",
   "name": "python3"
  },
  "language_info": {
   "codemirror_mode": {
    "name": "ipython",
    "version": 3
   },
   "file_extension": ".py",
   "mimetype": "text/x-python",
   "name": "python",
   "nbconvert_exporter": "python",
   "pygments_lexer": "ipython3",
   "version": "3.8.5"
  }
 },
 "nbformat": 4,
 "nbformat_minor": 4
}
